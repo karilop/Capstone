{
 "cells": [
  {
   "cell_type": "code",
   "execution_count": 2,
   "metadata": {},
   "outputs": [
    {
     "name": "stdout",
     "output_type": "stream",
     "text": [
      "Columns in the Excel file:\n",
      "INTERSECTION\n",
      "CAMERA ID\n",
      "ADDRESS\n",
      "VIOLATION DATE\n",
      "VIOLATIONS\n",
      "X COORDINATE\n",
      "Y COORDINATE\n",
      "LATITUDE\n",
      "LONGITUDE\n",
      "LOCATION\n"
     ]
    }
   ],
   "source": [
    "import pandas as pd\n",
    "\n",
    "# Specify the path to your Excel file\n",
    "csv_file_path = \"./Red_Light_Camera_Violations.csv\"\n",
    "\n",
    "# Read the Excel file into a pandas DataFrame\n",
    "df = pd.read_csv(csv_file_path)\n",
    "\n",
    "# Get the column names\n",
    "columns = df.columns.tolist()\n",
    "\n",
    "# Print the list of columns\n",
    "print(\"Columns in the Excel file:\")\n",
    "for column in columns:\n",
    "    print(column)\n"
   ]
  },
  {
   "cell_type": "code",
   "execution_count": 3,
   "metadata": {},
   "outputs": [
    {
     "name": "stdout",
     "output_type": "stream",
     "text": [
      "Columns in the Excel file:\n",
      "ADDRESS\n",
      "CAMERA ID\n",
      "VIOLATION DATE\n",
      "VIOLATIONS\n",
      "X COORDINATE\n",
      "Y COORDINATE\n",
      "LATITUDE\n",
      "LONGITUDE\n",
      "LOCATION\n"
     ]
    }
   ],
   "source": [
    "import pandas as pd\n",
    "\n",
    "# Specify the path to your Excel file\n",
    "csv_file_path = \"./Speed_Camera_Violations.csv\"\n",
    "\n",
    "# Read the Excel file into a pandas DataFrame\n",
    "df = pd.read_csv(csv_file_path)\n",
    "\n",
    "# Get the column names\n",
    "columns = df.columns.tolist()\n",
    "\n",
    "# Print the list of columns\n",
    "print(\"Columns in the Excel file:\")\n",
    "for column in columns:\n",
    "    print(column)\n"
   ]
  },
  {
   "cell_type": "code",
   "execution_count": 4,
   "metadata": {},
   "outputs": [
    {
     "name": "stderr",
     "output_type": "stream",
     "text": [
      "C:\\Users\\klope\\AppData\\Local\\Temp\\ipykernel_8236\\315812124.py:7: DtypeWarning: Columns (10) have mixed types. Specify dtype option on import or set low_memory=False.\n",
      "  df = pd.read_csv(excel_file_path)\n"
     ]
    },
    {
     "name": "stdout",
     "output_type": "stream",
     "text": [
      "Columns in the Excel file:\n",
      "CRASH_RECORD_ID\n",
      "CRASH_DATE_EST_I\n",
      "CRASH_DATE\n",
      "POSTED_SPEED_LIMIT\n",
      "TRAFFIC_CONTROL_DEVICE\n",
      "DEVICE_CONDITION\n",
      "WEATHER_CONDITION\n",
      "LIGHTING_CONDITION\n",
      "FIRST_CRASH_TYPE\n",
      "TRAFFICWAY_TYPE\n",
      "LANE_CNT\n",
      "ALIGNMENT\n",
      "ROADWAY_SURFACE_COND\n",
      "ROAD_DEFECT\n",
      "REPORT_TYPE\n",
      "CRASH_TYPE\n",
      "INTERSECTION_RELATED_I\n",
      "NOT_RIGHT_OF_WAY_I\n",
      "HIT_AND_RUN_I\n",
      "DAMAGE\n",
      "DATE_POLICE_NOTIFIED\n",
      "PRIM_CONTRIBUTORY_CAUSE\n",
      "SEC_CONTRIBUTORY_CAUSE\n",
      "STREET_NO\n",
      "STREET_DIRECTION\n",
      "STREET_NAME\n",
      "BEAT_OF_OCCURRENCE\n",
      "PHOTOS_TAKEN_I\n",
      "STATEMENTS_TAKEN_I\n",
      "DOORING_I\n",
      "WORK_ZONE_I\n",
      "WORK_ZONE_TYPE\n",
      "WORKERS_PRESENT_I\n",
      "NUM_UNITS\n",
      "MOST_SEVERE_INJURY\n",
      "INJURIES_TOTAL\n",
      "INJURIES_FATAL\n",
      "INJURIES_INCAPACITATING\n",
      "INJURIES_NON_INCAPACITATING\n",
      "INJURIES_REPORTED_NOT_EVIDENT\n",
      "INJURIES_NO_INDICATION\n",
      "INJURIES_UNKNOWN\n",
      "CRASH_HOUR\n",
      "CRASH_DAY_OF_WEEK\n",
      "CRASH_MONTH\n",
      "LATITUDE\n",
      "LONGITUDE\n",
      "LOCATION\n"
     ]
    }
   ],
   "source": [
    "import pandas as pd\n",
    "\n",
    "# Specify the path to your Excel file\n",
    "csv_file_path = \"./Traffic_Crashes_Crashes.csv\"\n",
    "\n",
    "# Read the Excel file into a pandas DataFrame\n",
    "df = pd.read_csv(csv_file_path)\n",
    "\n",
    "# Get the column names\n",
    "columns = df.columns.tolist()\n",
    "\n",
    "# Print the list of columns\n",
    "print(\"Columns in the Excel file:\")\n",
    "for column in columns:\n",
    "    print(column)\n"
   ]
  },
  {
   "cell_type": "code",
   "execution_count": 7,
   "metadata": {},
   "outputs": [
    {
     "name": "stderr",
     "output_type": "stream",
     "text": [
      "C:\\Users\\klope\\AppData\\Local\\Temp\\ipykernel_8236\\2912632362.py:7: DtypeWarning: Columns (10) have mixed types. Specify dtype option on import or set low_memory=False.\n",
      "  df = pd.read_csv(csv_file_path)\n"
     ]
    }
   ],
   "source": [
    "import pandas as pd\n",
    "\n",
    "# Specify the path to your CSV file\n",
    "csv_file_path = \"./Traffic_Crashes_Crashes.csv\"\n",
    "\n",
    "# Read the CSV file into a pandas DataFrame\n",
    "df = pd.read_csv(csv_file_path)\n",
    "\n",
    "# List of columns you want to remove\n",
    "columns_to_remove = ['PHOTOS_TAKEN_I', 'STATEMENTS_TAKEN_I', 'DOORING_I', 'WORK_ZONE_I', 'WORK_ZONE_TYPE', 'WORKERS_PRESENT_I', 'NUM_UNITS', 'MOST_SEVERE_INJURY', 'INJURIES_TOTAL', 'INJURIES_FATAL', \n",
    "                     'INJURIES_INCAPACITATING', 'INJURIES_NON_INCAPACITATING', 'INJURIES_REPORTED_NOT_EVIDENT', 'INJURIES_NO_INDICATION', 'INJURIES_UNKNOWN', 'CRASH_RECORD_ID', 'WEATHER_CONDITION',\n",
    "                     'LIGHTING_CONDITION', 'NOT_RIGHT_OF_WAY_I', 'HIT_AND_RUN_I', 'DAMAGE', 'DATE_POLICE_NOTIFIED']\n",
    "\n",
    "\n",
    "# Remove the specified columns\n",
    "df = df.drop(columns=columns_to_remove)\n",
    "\n",
    "# Save the modified DataFrame back to a CSV file\n",
    "df.to_csv(\"./Traffic_Crashes_Crashes_Cleaned.csv\", index=False)"
   ]
  },
  {
   "cell_type": "code",
   "execution_count": 8,
   "metadata": {},
   "outputs": [
    {
     "name": "stderr",
     "output_type": "stream",
     "text": [
      "C:\\Users\\klope\\AppData\\Local\\Temp\\ipykernel_8236\\2342786203.py:5: DtypeWarning: Columns (7) have mixed types. Specify dtype option on import or set low_memory=False.\n",
      "  df = pd.read_csv(csv_file_path)\n"
     ]
    },
    {
     "name": "stdout",
     "output_type": "stream",
     "text": [
      "Columns in the Excel file:\n",
      "CRASH_DATE_EST_I\n",
      "CRASH_DATE\n",
      "POSTED_SPEED_LIMIT\n",
      "TRAFFIC_CONTROL_DEVICE\n",
      "DEVICE_CONDITION\n",
      "FIRST_CRASH_TYPE\n",
      "TRAFFICWAY_TYPE\n",
      "LANE_CNT\n",
      "ALIGNMENT\n",
      "ROADWAY_SURFACE_COND\n",
      "ROAD_DEFECT\n",
      "REPORT_TYPE\n",
      "CRASH_TYPE\n",
      "INTERSECTION_RELATED_I\n",
      "PRIM_CONTRIBUTORY_CAUSE\n",
      "SEC_CONTRIBUTORY_CAUSE\n",
      "STREET_NO\n",
      "STREET_DIRECTION\n",
      "STREET_NAME\n",
      "BEAT_OF_OCCURRENCE\n",
      "CRASH_HOUR\n",
      "CRASH_DAY_OF_WEEK\n",
      "CRASH_MONTH\n",
      "LATITUDE\n",
      "LONGITUDE\n",
      "LOCATION\n"
     ]
    }
   ],
   "source": [
    "# Specify the path to your Excel file\n",
    "csv_file_path = \"./Traffic_Crashes_Crashes_Cleaned.csv\"\n",
    "\n",
    "# Read the Excel file into a pandas DataFrame\n",
    "df = pd.read_csv(csv_file_path)\n",
    "\n",
    "# Get the column names\n",
    "columns = df.columns.tolist()\n",
    "\n",
    "# Print the list of columns\n",
    "print(\"Columns in the Excel file:\")\n",
    "for column in columns:\n",
    "    print(column)"
   ]
  }
 ],
 "metadata": {
  "kernelspec": {
   "display_name": "Python 3",
   "language": "python",
   "name": "python3"
  },
  "language_info": {
   "codemirror_mode": {
    "name": "ipython",
    "version": 3
   },
   "file_extension": ".py",
   "mimetype": "text/x-python",
   "name": "python",
   "nbconvert_exporter": "python",
   "pygments_lexer": "ipython3",
   "version": "3.12.0"
  }
 },
 "nbformat": 4,
 "nbformat_minor": 2
}
